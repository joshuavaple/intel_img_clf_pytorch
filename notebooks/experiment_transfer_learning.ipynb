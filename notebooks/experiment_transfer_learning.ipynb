{
 "cells": [
  {
   "cell_type": "code",
   "execution_count": 1,
   "metadata": {},
   "outputs": [],
   "source": [
    "import pathlib\n",
    "import os\n",
    "import sys\n",
    "from torch.utils.data import DataLoader\n",
    "import torch\n",
    "import torchvision\n",
    "import random\n",
    "\n",
    "PACKAGE_PARENT = pathlib.Path.cwd().parent \n",
    "SCR_DIR = os.path.join(PACKAGE_PARENT, 'src')\n",
    "sys.path.append(SCR_DIR)\n",
    "\n",
    "from config.loc_config import TRAIN_DATA_LOC, TEST_DATA_LOC, PRED_DATA_LOC, ANNOT_LOC, MODEL_SAVE_LOC, REPORT_SAVE_LOC\n",
    "from config.data_config import INPUT_WIDTH, INPUT_HEIGHT, INPUT_CHANNEL, BATCH_SIZE, NUM_WORKERS\n",
    "from preprocessing.utils import build_annotation_dataframe, check_annot_dataframe, transform_bilinear\n",
    "from model.dataset import IntelDataset, create_validation_dataset\n",
    "import model.cnn_model as cnn_model\n",
    "import model.modelling_config as modelling_config\n",
    "import model.ensemble_model as ensemble_model\n",
    "from postprocessing.utils import save_model_with_timestamp, save_csv_with_timestamp, calculate_model_performance, generate_fn_cost_matrix, generate_fp_cost_matrix"
   ]
  },
  {
   "cell_type": "code",
   "execution_count": 2,
   "metadata": {},
   "outputs": [],
   "source": [
    "import importlib\n",
    "import model.dataset\n",
    "import model.cnn_model as cnn_model\n",
    "import model.custom_loss_function as custom_loss_function\n",
    "import config.loc_config\n",
    "import postprocessing.utils\n",
    "importlib.reload(model.dataset)\n",
    "importlib.reload(model.cnn_model)\n",
    "importlib.reload(model.modelling_config)\n",
    "importlib.reload(model.ensemble_model)\n",
    "importlib.reload(model.custom_loss_function)\n",
    "importlib.reload(config.loc_config)\n",
    "importlib.reload(postprocessing.utils)\n",
    "from model.dataset import IntelDataset, create_validation_dataset\n",
    "import model.cnn_model as cnn_model\n",
    "import model.modelling_config as modelling_config\n",
    "import model.ensemble_model as ensemble_model\n",
    "import config.loc_config\n",
    "from postprocessing.utils import save_model_with_timestamp, save_csv_with_timestamp"
   ]
  },
  {
   "cell_type": "code",
   "execution_count": 3,
   "metadata": {},
   "outputs": [
    {
     "name": "stdout",
     "output_type": "stream",
     "text": [
      "True\n",
      "True\n"
     ]
    }
   ],
   "source": [
    "print(torch.backends.cudnn.enabled)\n",
    "print(torch.cuda.is_available())"
   ]
  },
  {
   "attachments": {},
   "cell_type": "markdown",
   "metadata": {},
   "source": [
    "### 1. Creating and Preprocessing Input Dataset"
   ]
  },
  {
   "cell_type": "code",
   "execution_count": 4,
   "metadata": {},
   "outputs": [
    {
     "name": "stdout",
     "output_type": "stream",
     "text": [
      "['buildings', 'forest', 'glacier', 'mountain', 'sea', 'street']\n",
      "[(4, 'sea'), (1, 'forest'), (3, 'mountain'), (5, 'street'), (2, 'glacier'), (0, 'buildings')]\n",
      "[(4, 'sea'), (1, 'forest'), (3, 'mountain'), (5, 'street'), (2, 'glacier'), (0, 'buildings')]\n"
     ]
    }
   ],
   "source": [
    "train_df = build_annotation_dataframe(image_location=TRAIN_DATA_LOC, annot_location=ANNOT_LOC, output_csv_name='train.csv')\n",
    "test_df = build_annotation_dataframe(image_location=TEST_DATA_LOC, annot_location=ANNOT_LOC, output_csv_name='test.csv')\n",
    "class_names = list(train_df['class_name'].unique())\n",
    "print(class_names)\n",
    "print(check_annot_dataframe(train_df))\n",
    "print(check_annot_dataframe(test_df))"
   ]
  },
  {
   "attachments": {},
   "cell_type": "markdown",
   "metadata": {},
   "source": [
    "Note for cell below: inception_v3 needs input shape of [batch_size, 3, 299, 299], hence we cannot use the original 224*224 image size. Here, we simply double the size. Detailed below:\n",
    "https://discuss.pytorch.org/t/error-in-training-inception-v3/23933"
   ]
  },
  {
   "cell_type": "code",
   "execution_count": 5,
   "metadata": {},
   "outputs": [
    {
     "name": "stdout",
     "output_type": "stream",
     "text": [
      "11227 2807\n",
      "Train set size:  11227\n",
      "Validation set size:  2807\n",
      "Test set size:  3000\n"
     ]
    },
    {
     "name": "stderr",
     "output_type": "stream",
     "text": [
      "c:\\Users\\phuon\\OneDrive\\Documents\\GitHub\\intel_img_clf_pytorch\\venv39cuda\\lib\\site-packages\\torchvision\\transforms\\transforms.py:329: UserWarning: Argument 'interpolation' of type int is deprecated since 0.13 and will be removed in 0.15. Please use InterpolationMode enum.\n",
      "  warnings.warn(\n"
     ]
    }
   ],
   "source": [
    "image_transform = transform_bilinear(INPUT_WIDTH*2, INPUT_HEIGHT*2)\n",
    "main_dataset = IntelDataset(annot_df = train_df, transform=image_transform)\n",
    "train_dataset, validation_dataset = create_validation_dataset(main_dataset, validation_proportion=0.2)\n",
    "print('Train set size: ', len(train_dataset))\n",
    "print('Validation set size: ', len(validation_dataset))\n",
    "\n",
    "test_dataset = IntelDataset(annot_df = test_df, transform=image_transform)\n",
    "print('Test set size: ', len(test_dataset))"
   ]
  },
  {
   "attachments": {},
   "cell_type": "markdown",
   "metadata": {},
   "source": [
    "### 2. Configuring the Dataloaders"
   ]
  },
  {
   "cell_type": "code",
   "execution_count": 6,
   "metadata": {},
   "outputs": [],
   "source": [
    "train_loader = DataLoader(train_dataset, batch_size = BATCH_SIZE, shuffle=True, num_workers = NUM_WORKERS)\n",
    "val_loader = DataLoader(validation_dataset, batch_size = BATCH_SIZE, shuffle=True, num_workers = NUM_WORKERS)\n",
    "test_loader = DataLoader(test_dataset, batch_size = BATCH_SIZE, shuffle=True, num_workers = NUM_WORKERS)"
   ]
  },
  {
   "attachments": {},
   "cell_type": "markdown",
   "metadata": {},
   "source": [
    "### 4. Set the device (CPU/GPU)"
   ]
  },
  {
   "cell_type": "code",
   "execution_count": 8,
   "metadata": {},
   "outputs": [
    {
     "data": {
      "text/plain": [
       "device(type='cuda')"
      ]
     },
     "execution_count": 8,
     "metadata": {},
     "output_type": "execute_result"
    }
   ],
   "source": [
    "device = modelling_config.get_default_device()\n",
    "device"
   ]
  },
  {
   "attachments": {},
   "cell_type": "markdown",
   "metadata": {},
   "source": [
    "### 5. Loading the Pre-trained Models with Frozen Parameters and Exploring Them"
   ]
  },
  {
   "cell_type": "code",
   "execution_count": 9,
   "metadata": {},
   "outputs": [
    {
     "name": "stderr",
     "output_type": "stream",
     "text": [
      "c:\\Users\\phuon\\OneDrive\\Documents\\GitHub\\intel_img_clf_pytorch\\venv39cuda\\lib\\site-packages\\torchvision\\models\\_utils.py:223: UserWarning: Arguments other than a weight enum or `None` for 'weights' are deprecated since 0.13 and may be removed in the future. The current behavior is equivalent to passing `weights=ResNet50_Weights.IMAGENET1K_V1`. You can also use `weights=ResNet50_Weights.DEFAULT` to get the most up-to-date weights.\n",
      "  warnings.warn(msg)\n",
      "c:\\Users\\phuon\\OneDrive\\Documents\\GitHub\\intel_img_clf_pytorch\\venv39cuda\\lib\\site-packages\\torchvision\\models\\_utils.py:223: UserWarning: Arguments other than a weight enum or `None` for 'weights' are deprecated since 0.13 and may be removed in the future. The current behavior is equivalent to passing `weights=Inception_V3_Weights.IMAGENET1K_V1`. You can also use `weights=Inception_V3_Weights.DEFAULT` to get the most up-to-date weights.\n",
      "  warnings.warn(msg)\n"
     ]
    }
   ],
   "source": [
    "# The Pytorch API calls a pre-trained model and move it to the default device\n",
    "resnet = torchvision.models.resnet50(weights = True).to(device) \n",
    "inception = torchvision.models.inception_v3(weights = True).to(device)\n",
    "# Telling the model to keep pre-trained weights\n",
    "for param in resnet.parameters():    \n",
    "    param.requires_grad = False\n",
    "for param in inception.parameters():\n",
    "    param.requires_grad = False"
   ]
  },
  {
   "cell_type": "code",
   "execution_count": 10,
   "metadata": {},
   "outputs": [
    {
     "name": "stdout",
     "output_type": "stream",
     "text": [
      "resnet architecture: \n",
      "Children Counter:  0  Layer Name:  conv1\n",
      "Children Counter:  1  Layer Name:  bn1\n",
      "Children Counter:  2  Layer Name:  relu\n",
      "Children Counter:  3  Layer Name:  maxpool\n",
      "Children Counter:  4  Layer Name:  layer1\n",
      "Children Counter:  5  Layer Name:  layer2\n",
      "Children Counter:  6  Layer Name:  layer3\n",
      "Children Counter:  7  Layer Name:  layer4\n",
      "Children Counter:  8  Layer Name:  avgpool\n",
      "Children Counter:  9  Layer Name:  fc\n",
      "--------------------\n",
      "inception_v3 architecture: \n",
      "Children Counter:  0  Layer Name:  conv1\n",
      "Children Counter:  1  Layer Name:  bn1\n",
      "Children Counter:  2  Layer Name:  relu\n",
      "Children Counter:  3  Layer Name:  maxpool\n",
      "Children Counter:  4  Layer Name:  layer1\n",
      "Children Counter:  5  Layer Name:  layer2\n",
      "Children Counter:  6  Layer Name:  layer3\n",
      "Children Counter:  7  Layer Name:  layer4\n",
      "Children Counter:  8  Layer Name:  avgpool\n",
      "Children Counter:  9  Layer Name:  fc\n"
     ]
    }
   ],
   "source": [
    "# We can use .named_children() method to check the layers (children) of resnet\n",
    "# adapted from: https://medium.com/the-owl/extracting-features-from-an-intermediate-layer-of-a-pretrained-model-in-pytorch-c00589bda32b\n",
    "print('resnet architecture: ')\n",
    "children_counter = 0\n",
    "for n, c in resnet.named_children():\n",
    "    print(\"Children Counter: \",children_counter,\" Layer Name: \",n,)\n",
    "    children_counter += 1\n",
    "print('-'*20)\n",
    "print('inception_v3 architecture: ')\n",
    "children_counter = 0\n",
    "for n,c in resnet.named_children():\n",
    "    print(\"Children Counter: \",children_counter,\" Layer Name: \",n,)\n",
    "    children_counter+=1"
   ]
  },
  {
   "cell_type": "code",
   "execution_count": 11,
   "metadata": {},
   "outputs": [
    {
     "name": "stdout",
     "output_type": "stream",
     "text": [
      "Linear(in_features=2048, out_features=1000, bias=True)\n",
      "Linear(in_features=2048, out_features=1000, bias=True)\n",
      "2048\n",
      "2048\n"
     ]
    }
   ],
   "source": [
    "# Examining the final fc layers of these models:\n",
    "print(resnet.fc)\n",
    "print(inception.fc)\n",
    "print(resnet.fc.in_features)\n",
    "print(inception.fc.in_features)"
   ]
  },
  {
   "attachments": {},
   "cell_type": "markdown",
   "metadata": {},
   "source": [
    "### 6. Training and Exporting the Ensemble CNN Model"
   ]
  },
  {
   "attachments": {},
   "cell_type": "markdown",
   "metadata": {},
   "source": [
    "#### 6.1. With 8 Epochs"
   ]
  },
  {
   "cell_type": "code",
   "execution_count": 12,
   "metadata": {},
   "outputs": [
    {
     "name": "stdout",
     "output_type": "stream",
     "text": [
      "Epoch 1 \t Training Loss: 0.581 \t Validation Loss: 0.56 \t Epoch Train Accuracy (%): 79.4 \t Epoch Time (s): 282.4\n",
      "Epoch 2 \t Training Loss: 0.353 \t Validation Loss: 0.453 \t Epoch Train Accuracy (%): 87.04 \t Epoch Time (s): 255.1\n",
      "Epoch 3 \t Training Loss: 0.338 \t Validation Loss: 0.588 \t Epoch Train Accuracy (%): 87.42 \t Epoch Time (s): 266.6\n",
      "Epoch 4 \t Training Loss: 0.308 \t Validation Loss: 0.446 \t Epoch Train Accuracy (%): 88.62 \t Epoch Time (s): 267.9\n",
      "Epoch 5 \t Training Loss: 0.306 \t Validation Loss: 0.431 \t Epoch Train Accuracy (%): 88.86 \t Epoch Time (s): 275.9\n",
      "Epoch 6 \t Training Loss: 0.305 \t Validation Loss: 0.483 \t Epoch Train Accuracy (%): 88.77 \t Epoch Time (s): 271.5\n",
      "Epoch 7 \t Training Loss: 0.305 \t Validation Loss: 0.439 \t Epoch Train Accuracy (%): 88.39 \t Epoch Time (s): 264.1\n",
      "Epoch 8 \t Training Loss: 0.295 \t Validation Loss: 0.402 \t Epoch Train Accuracy (%): 89.01 \t Epoch Time (s): 274.6\n"
     ]
    },
    {
     "data": {
      "image/png": "[encoded data removed]",
      "text/plain": [
       "<Figure size 700x700 with 2 Axes>"
      ]
     },
     "metadata": {},
     "output_type": "display_data"
    }
   ],
   "source": [
    "# initiation\n",
    "model = ensemble_model.MyEnsembleModel(resnet, inception)\n",
    "# modelling_config.model_prep_and_summary(model, device)\n",
    "criterion = modelling_config.default_loss()\n",
    "optimizer = modelling_config.default_optimizer(model=model)\n",
    "num_epochs = 8\n",
    "\n",
    "# get training results\n",
    "trained_model, train_result_dict = cnn_model.train_model(model, device,\n",
    "                                                         train_loader, val_loader, \n",
    "                                                         criterion, optimizer, num_epochs)\n",
    "cnn_model.visualize_training(train_result_dict)\n"
   ]
  },
  {
   "cell_type": "code",
   "execution_count": 13,
   "metadata": {},
   "outputs": [
    {
     "name": "stdout",
     "output_type": "stream",
     "text": [
      "Saved model to:  ..\\data\\04_model\\20230112_004739_cnn_model.pt\n",
      "Saved training report to:  ..\\data\\06_reporting\\20230112_004739_training_report.csv\n"
     ]
    }
   ],
   "source": [
    "save_model_with_timestamp(trained_model, MODEL_SAVE_LOC)\n",
    "save_csv_with_timestamp(train_result_dict, REPORT_SAVE_LOC)"
   ]
  },
  {
   "cell_type": "code",
   "execution_count": null,
   "metadata": {},
   "outputs": [],
   "source": []
  },
  {
   "attachments": {},
   "cell_type": "markdown",
   "metadata": {},
   "source": [
    "### 4. Testing"
   ]
  },
  {
   "cell_type": "code",
   "execution_count": 20,
   "metadata": {},
   "outputs": [
    {
     "name": "stdout",
     "output_type": "stream",
     "text": [
      "..\\data\\04_model\\20230112_004739_cnn_model.pt\n"
     ]
    },
    {
     "data": {
      "text/plain": [
       "<All keys matched successfully>"
      ]
     },
     "execution_count": 20,
     "metadata": {},
     "output_type": "execute_result"
    }
   ],
   "source": [
    "trained_model_list = os.listdir(MODEL_SAVE_LOC)\n",
    "ENSEMBLE_MODEL_8_EPOCH_PATH = os.path.join(MODEL_SAVE_LOC, trained_model_list[-1])\n",
    "ENSEMBLE_MODEL_8_EPOCH = ensemble_model.MyEnsembleModel(resnet, inception)\n",
    "device = modelling_config.get_default_device()\n",
    "print(ENSEMBLE_MODEL_8_EPOCH_PATH)\n",
    "ENSEMBLE_MODEL_8_EPOCH.load_state_dict(torch.load(ENSEMBLE_MODEL_8_EPOCH_PATH))"
   ]
  },
  {
   "cell_type": "code",
   "execution_count": 21,
   "metadata": {},
   "outputs": [],
   "source": [
    "y_pred, y_true = cnn_model.infer(model = ENSEMBLE_MODEL_8_EPOCH, device = device, data_loader = test_loader)\n",
    "confusion_matrix, class_metrics, overall_metrics = calculate_model_performance(y_pred, y_true, class_names = class_names)"
   ]
  },
  {
   "cell_type": "code",
   "execution_count": 22,
   "metadata": {},
   "outputs": [
    {
     "name": "stdout",
     "output_type": "stream",
     "text": [
      "tensor([[375.,   6.,   2.,   7.,   0.,  54.],\n",
      "        [  1., 424.,   3.,   4.,   1.,   1.],\n",
      "        [  2.,   4., 415.,  49.,   8.,   6.],\n",
      "        [  7.,  15.,  91., 428.,  17.,  10.],\n",
      "        [  8.,  13.,  41.,  32., 484.,   9.],\n",
      "        [ 44.,  12.,   1.,   5.,   0., 421.]])\n",
      "           accuracy  precision  recall  f1_score\n",
      "buildings     0.956      0.845   0.858     0.851\n",
      "forest        0.980      0.977   0.895     0.934\n",
      "glacier       0.931      0.857   0.750     0.800\n",
      "mountain      0.921      0.754   0.815     0.783\n",
      "sea           0.957      0.825   0.949     0.882\n",
      "street        0.953      0.872   0.840     0.856\n",
      "             overall\n",
      "accuracy       0.849\n",
      "f1_mirco       0.849\n",
      "f1_macro       0.851\n",
      "f1_weighted    0.849\n"
     ]
    }
   ],
   "source": [
    "print(confusion_matrix)\n",
    "print(class_metrics)\n",
    "print(overall_metrics)"
   ]
  }
 ],
 "metadata": {
  "kernelspec": {
   "display_name": "venv39cuda",
   "language": "python",
   "name": "python3"
  },
  "language_info": {
   "codemirror_mode": {
    "name": "ipython",
    "version": 3
   },
   "file_extension": ".py",
   "mimetype": "text/x-python",
   "name": "python",
   "nbconvert_exporter": "python",
   "pygments_lexer": "ipython3",
   "version": "3.9.13 (tags/v3.9.13:6de2ca5, May 17 2022, 16:36:42) [MSC v.1929 64 bit (AMD64)]"
  },
  "orig_nbformat": 4,
  "vscode": {
   "interpreter": {
    "hash": "634900831a86cc735c336a9d1614cc55c7d54aed4a32c7611ba70e7e6c369115"
   }
  }
 },
 "nbformat": 4,
 "nbformat_minor": 2
}
